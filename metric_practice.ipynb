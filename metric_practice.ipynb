{
 "cells": [
  {
   "cell_type": "code",
   "execution_count": 1,
   "metadata": {},
   "outputs": [],
   "source": [
    "import numpy as np\n",
    "import monai\n",
    "import torch"
   ]
  },
  {
   "cell_type": "code",
   "execution_count": 53,
   "metadata": {},
   "outputs": [],
   "source": [
    "#3d segmentation metrics\n",
    "\n",
    "# size = (batch, c, h, w, d)\n",
    "seg_original = torch.randint(0, 2, size=(16, 2, 32, 32, 32))\n",
    "seg_prediction = torch.randint(0, 2, size=(16, 2, 32, 32, 32))"
   ]
  },
  {
   "cell_type": "code",
   "execution_count": 54,
   "metadata": {},
   "outputs": [],
   "source": [
    "# average symmetric surface distance (direct computation)\n",
    "result = monai.metrics.compute_average_surface_distance(seg_prediction, seg_original, include_background=False, symmetric=True, distance_metric=\"euclidean\")"
   ]
  },
  {
   "cell_type": "code",
   "execution_count": 55,
   "metadata": {},
   "outputs": [],
   "source": [
    "result_reverse = monai.metrics.compute_average_surface_distance(seg_original, seg_prediction, include_background=False, symmetric=True, distance_metric=\"euclidean\")"
   ]
  },
  {
   "cell_type": "code",
   "execution_count": 56,
   "metadata": {},
   "outputs": [
    {
     "name": "stdout",
     "output_type": "stream",
     "text": [
      "tensor([[0.5077],\n",
      "        [0.5089],\n",
      "        [0.5145],\n",
      "        [0.5101],\n",
      "        [0.5060],\n",
      "        [0.5052],\n",
      "        [0.5139],\n",
      "        [0.5097],\n",
      "        [0.5165],\n",
      "        [0.5109],\n",
      "        [0.5108],\n",
      "        [0.5097],\n",
      "        [0.5088],\n",
      "        [0.5048],\n",
      "        [0.5089],\n",
      "        [0.5078]], dtype=torch.float64)\n",
      "torch.Size([16, 1])\n"
     ]
    }
   ],
   "source": [
    "print(result)\n",
    "print(result.shape)"
   ]
  },
  {
   "cell_type": "code",
   "execution_count": 57,
   "metadata": {},
   "outputs": [
    {
     "name": "stdout",
     "output_type": "stream",
     "text": [
      "tensor([[0.5077],\n",
      "        [0.5089],\n",
      "        [0.5145],\n",
      "        [0.5101],\n",
      "        [0.5060],\n",
      "        [0.5052],\n",
      "        [0.5139],\n",
      "        [0.5097],\n",
      "        [0.5165],\n",
      "        [0.5109],\n",
      "        [0.5108],\n",
      "        [0.5097],\n",
      "        [0.5088],\n",
      "        [0.5048],\n",
      "        [0.5089],\n",
      "        [0.5078]], dtype=torch.float64)\n",
      "torch.Size([16, 1])\n",
      "tensor(True)\n"
     ]
    }
   ],
   "source": [
    "print(result_reverse)\n",
    "print(result_reverse.shape)\n",
    "print((result == result_reverse).all())"
   ]
  },
  {
   "cell_type": "code",
   "execution_count": 58,
   "metadata": {},
   "outputs": [],
   "source": [
    "# average symmetric surface distance (function-based organization)\n",
    "ASSD = monai.metrics.SurfaceDistanceMetric(include_background=False, symmetric=True, distance_metric=\"euclidean\")"
   ]
  },
  {
   "cell_type": "code",
   "execution_count": 59,
   "metadata": {},
   "outputs": [],
   "source": [
    "tensor_ASSD = ASSD(seg_prediction, seg_original)"
   ]
  },
  {
   "cell_type": "code",
   "execution_count": 60,
   "metadata": {},
   "outputs": [
    {
     "name": "stdout",
     "output_type": "stream",
     "text": [
      "tensor([[0.5077],\n",
      "        [0.5089],\n",
      "        [0.5145],\n",
      "        [0.5101],\n",
      "        [0.5060],\n",
      "        [0.5052],\n",
      "        [0.5139],\n",
      "        [0.5097],\n",
      "        [0.5165],\n",
      "        [0.5109],\n",
      "        [0.5108],\n",
      "        [0.5097],\n",
      "        [0.5088],\n",
      "        [0.5048],\n",
      "        [0.5089],\n",
      "        [0.5078]], dtype=torch.float64)\n"
     ]
    }
   ],
   "source": [
    "print(tensor_ASSD)"
   ]
  },
  {
   "cell_type": "code",
   "execution_count": null,
   "metadata": {},
   "outputs": [],
   "source": []
  },
  {
   "cell_type": "code",
   "execution_count": 66,
   "metadata": {},
   "outputs": [],
   "source": [
    "# Mean Dice (direct computation)\n",
    "dice_result = monai.metrics.compute_meandice(seg_prediction, seg_original, include_background=False)"
   ]
  },
  {
   "cell_type": "code",
   "execution_count": 70,
   "metadata": {},
   "outputs": [
    {
     "name": "stdout",
     "output_type": "stream",
     "text": [
      "tensor([[0.5027],\n",
      "        [0.5015],\n",
      "        [0.4955],\n",
      "        [0.5008],\n",
      "        [0.5037],\n",
      "        [0.5048],\n",
      "        [0.4966],\n",
      "        [0.4995],\n",
      "        [0.4935],\n",
      "        [0.4982],\n",
      "        [0.5009],\n",
      "        [0.4992],\n",
      "        [0.5017],\n",
      "        [0.5045],\n",
      "        [0.5012],\n",
      "        [0.5022]])\n",
      "torch.Size([16, 1])\n"
     ]
    }
   ],
   "source": [
    "print(dice_result)\n",
    "print(dice_result.shape)"
   ]
  },
  {
   "cell_type": "code",
   "execution_count": 73,
   "metadata": {},
   "outputs": [],
   "source": [
    "# Mean Dice (function-based organization)\n",
    "DICE = monai.metrics.DiceMetric(include_background=False)"
   ]
  },
  {
   "cell_type": "code",
   "execution_count": 75,
   "metadata": {},
   "outputs": [],
   "source": [
    "tensor_dice = DICE(seg_prediction, seg_original)"
   ]
  },
  {
   "cell_type": "code",
   "execution_count": 76,
   "metadata": {},
   "outputs": [
    {
     "name": "stdout",
     "output_type": "stream",
     "text": [
      "tensor([[0.5027],\n",
      "        [0.5015],\n",
      "        [0.4955],\n",
      "        [0.5008],\n",
      "        [0.5037],\n",
      "        [0.5048],\n",
      "        [0.4966],\n",
      "        [0.4995],\n",
      "        [0.4935],\n",
      "        [0.4982],\n",
      "        [0.5009],\n",
      "        [0.4992],\n",
      "        [0.5017],\n",
      "        [0.5045],\n",
      "        [0.5012],\n",
      "        [0.5022]])\n"
     ]
    }
   ],
   "source": [
    "print(tesnor_dice)"
   ]
  },
  {
   "cell_type": "code",
   "execution_count": 77,
   "metadata": {},
   "outputs": [],
   "source": [
    "# 참고하시면 될 것 같아요.\n",
    "\n",
    "def dice(prediction, label):\n",
    "    '''\n",
    "    prediction: (batch, c, h, w, d)\n",
    "    label: (batch, c, h, w, d)\n",
    "    \n",
    "    output: (batch, 1)\n",
    "    '''\n",
    "    output = monai.metrics.compute_meandice(prediction, label, include_background=False)\n",
    "    \n",
    "    return output.to(\"cpu\").numpy()\n",
    "\n",
    "def assd(prediction, label):\n",
    "    '''\n",
    "    prediction: (batch, c, h, w, d)\n",
    "    label: (batch, c, h, w, d)\n",
    "    \n",
    "    (batch, 1)\n",
    "    '''\n",
    "    output = monai.metrics.compute_average_surface_distance(prediction, label, include_background=False, symmetric=True, distance_metric=\"euclidean\")\n",
    "        \n",
    "    return output.to(\"cpu\").numpy()\n"
   ]
  },
  {
   "cell_type": "code",
   "execution_count": 78,
   "metadata": {},
   "outputs": [
    {
     "data": {
      "text/plain": [
       "array([[0.50268686],\n",
       "       [0.5014791 ],\n",
       "       [0.49552312],\n",
       "       [0.5008258 ],\n",
       "       [0.5036776 ],\n",
       "       [0.504795  ],\n",
       "       [0.49660447],\n",
       "       [0.49947032],\n",
       "       [0.49349293],\n",
       "       [0.49817228],\n",
       "       [0.5009143 ],\n",
       "       [0.49915826],\n",
       "       [0.50171006],\n",
       "       [0.5044886 ],\n",
       "       [0.5012339 ],\n",
       "       [0.50217134]], dtype=float32)"
      ]
     },
     "execution_count": 78,
     "metadata": {},
     "output_type": "execute_result"
    }
   ],
   "source": [
    "dice(seg_prediction, seg_original)"
   ]
  },
  {
   "cell_type": "code",
   "execution_count": 79,
   "metadata": {},
   "outputs": [
    {
     "data": {
      "text/plain": [
       "array([[0.50769641],\n",
       "       [0.50888428],\n",
       "       [0.51448902],\n",
       "       [0.51014245],\n",
       "       [0.50600171],\n",
       "       [0.50515939],\n",
       "       [0.51390931],\n",
       "       [0.50970582],\n",
       "       [0.5164664 ],\n",
       "       [0.5109139 ],\n",
       "       [0.51082624],\n",
       "       [0.50965082],\n",
       "       [0.50879002],\n",
       "       [0.5047586 ],\n",
       "       [0.50888982],\n",
       "       [0.50782911]])"
      ]
     },
     "execution_count": 79,
     "metadata": {},
     "output_type": "execute_result"
    }
   ],
   "source": [
    "assd(seg_prediction, seg_original)"
   ]
  },
  {
   "cell_type": "code",
   "execution_count": null,
   "metadata": {},
   "outputs": [],
   "source": []
  }
 ],
 "metadata": {
  "interpreter": {
   "hash": "cae6fcda1fa0040d08965a49aad1c820bbb38ca2195ce28814f77caca36abf48"
  },
  "kernelspec": {
   "display_name": "Python 3.7.10 ('torchgeo')",
   "language": "python",
   "name": "python3"
  },
  "language_info": {
   "codemirror_mode": {
    "name": "ipython",
    "version": 3
   },
   "file_extension": ".py",
   "mimetype": "text/x-python",
   "name": "python",
   "nbconvert_exporter": "python",
   "pygments_lexer": "ipython3",
   "version": "3.7.10"
  },
  "orig_nbformat": 4
 },
 "nbformat": 4,
 "nbformat_minor": 2
}
